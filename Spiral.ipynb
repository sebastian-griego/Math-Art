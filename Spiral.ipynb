{
 "cells": [
  {
   "cell_type": "code",
   "execution_count": 9,
   "metadata": {},
   "outputs": [
    {
     "name": "stdout",
     "output_type": "stream",
     "text": [
      "Rendering: 100%\n",
      "Video saved as 'ColorfulSpiralPattern.mp4'\n"
     ]
    }
   ],
   "source": [
    "import pygame\n",
    "import math\n",
    "import colorsys\n",
    "import cv2\n",
    "import numpy as np\n",
    "from IPython.display import clear_output\n",
    "\n",
    "# Initialize Pygame\n",
    "pygame.init()\n",
    "\n",
    "# Setup\n",
    "width, height = 800, 800\n",
    "screen = pygame.Surface((width, height))  # Using Surface instead of display.set_mode()\n",
    "\n",
    "# Video writer\n",
    "fourcc = cv2.VideoWriter_fourcc(*'mp4v')\n",
    "video = cv2.VideoWriter('ColorfulSpiralPattern.mp4', fourcc, 60.0, (width, height))\n",
    "\n",
    "# Constants\n",
    "PHI = (1 + math.sqrt(5)) / 2\n",
    "GOLDEN_ANGLE = math.pi * 2 * (1 - 1 / PHI)\n",
    "\n",
    "# Animation loop\n",
    "t = 0\n",
    "while t < 10:  # 10 seconds of animation \n",
    "    screen.fill((0, 0, 0))\n",
    "\n",
    "    max_points = 500\n",
    "    base_radius = min(width, height) / 4\n",
    "\n",
    "    for i in range(max_points):\n",
    "        distance = (i / max_points) * base_radius\n",
    "        angle = i * GOLDEN_ANGLE + t\n",
    "\n",
    "        wave = math.sin(i * 0.1 + t) * 20\n",
    "        x = math.cos(angle) * (distance + wave) + width/2\n",
    "        y = math.sin(angle) * (distance + wave) + height/2\n",
    "\n",
    "        size = 2 + math.sin(i * 0.1 + t) * 2\n",
    "        hue = (i * 2 + t * 50) % 360 / 360\n",
    "        light = 0.5 + math.sin(i * 0.1 + t) * 0.2\n",
    "        rgb = [int(x * 255) for x in colorsys.hls_to_rgb(hue, light, 1)]\n",
    "\n",
    "        pygame.draw.circle(screen, rgb, (int(x), int(y)), int(size))\n",
    "\n",
    "        if i > 0 and i % 5 == 0:\n",
    "            prev_dist = ((i - 5) / max_points) * base_radius\n",
    "            prev_angle = (i - 5) * GOLDEN_ANGLE + t\n",
    "            prev_x = math.cos(prev_angle) * prev_dist + width/2\n",
    "            prev_y = math.sin(prev_angle) * prev_dist + height/2\n",
    "            pygame.draw.line(screen, (*rgb, 77), (x, y), (prev_x, prev_y), 1)\n",
    "\n",
    "    # Save frame to video\n",
    "    pixels = pygame.surfarray.array3d(screen)\n",
    "    pixels = pixels.swapaxes(0,1)\n",
    "    pixels = cv2.cvtColor(pixels, cv2.COLOR_RGB2BGR)\n",
    "    video.write(pixels)\n",
    "\n",
    "    t += 0.02\n",
    "    clear_output(wait=True)\n",
    "    print(f\"Rendering: {int(t*10)}%\")\n",
    "\n",
    "video.release()\n",
    "pygame.quit()\n",
    "print(\"Video saved as 'ColorfulSpiralPattern.mp4'\")\n",
    "\n",
    "\n"
   ]
  },
  {
   "cell_type": "code",
   "execution_count": null,
   "metadata": {},
   "outputs": [],
   "source": []
  }
 ],
 "metadata": {
  "kernelspec": {
   "display_name": "Python 3",
   "language": "python",
   "name": "python3"
  },
  "language_info": {
   "codemirror_mode": {
    "name": "ipython",
    "version": 3
   },
   "file_extension": ".py",
   "mimetype": "text/x-python",
   "name": "python",
   "nbconvert_exporter": "python",
   "pygments_lexer": "ipython3",
   "version": "3.11.9"
  }
 },
 "nbformat": 4,
 "nbformat_minor": 2
}
